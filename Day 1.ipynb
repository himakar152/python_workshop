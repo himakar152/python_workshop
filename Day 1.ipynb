{
 "cells": [
  {
   "cell_type": "code",
   "execution_count": 5,
   "metadata": {},
   "outputs": [
    {
     "name": "stdout",
     "output_type": "stream",
     "text": [
      "enter a value10\n",
      "enter b value10\n",
      "addition of 10 + 10 = 20\n",
      "substract of 10 - 10 = 0\n",
      "mul of (0) + (1)=(2)\n"
     ]
    }
   ],
   "source": [
    "a = int(input(\"enter a value\"))\n",
    "b = int(input(\"enter b value\"))\n",
    "\n",
    "print(\"addition of\",a,\"+\",b,\"=\",a+b)\n",
    "print(\"substract of %d - %d = %d\"%(a,b,a-b))\n",
    "print(\"mul of (0) + (1)=(2)\".format(a,b,a*b))"
   ]
  },
  {
   "cell_type": "markdown",
   "metadata": {},
   "source": [
    "# Relation or comparision\n",
    "   *,<,>=,<="
   ]
  },
  {
   "cell_type": "code",
   "execution_count": 7,
   "metadata": {},
   "outputs": [
    {
     "name": "stdout",
     "output_type": "stream",
     "text": [
      "greaterthan--> True\n",
      "lessthan--> False\n",
      "greaterthan or equalsto True\n",
      "not equalto True\n",
      "equals to True\n"
     ]
    }
   ],
   "source": [
    "print(\"greaterthan-->\",10>9)\n",
    "print(\"lessthan-->\",100<99)\n",
    "print(\"greaterthan or equalsto\",200>=199)\n",
    "print(\"not equalto\",200!=199)\n",
    "print(\"equals to\",200==200)"
   ]
  },
  {
   "cell_type": "markdown",
   "metadata": {},
   "source": [
    "# Assigment\n",
    "   +=,-=,=,/=,*=,//="
   ]
  },
  {
   "cell_type": "code",
   "execution_count": 8,
   "metadata": {},
   "outputs": [
    {
     "name": "stdout",
     "output_type": "stream",
     "text": [
      "final result is 100\n"
     ]
    }
   ],
   "source": [
    "a = 10\n",
    "a += 90\n",
    "a -= 50\n",
    "a *= 2\n",
    "print(\"final result is\",a)"
   ]
  },
  {
   "cell_type": "code",
   "execution_count": 9,
   "metadata": {},
   "outputs": [
    {
     "data": {
      "text/plain": [
       "100"
      ]
     },
     "execution_count": 9,
     "metadata": {},
     "output_type": "execute_result"
    }
   ],
   "source": [
    "a"
   ]
  },
  {
   "cell_type": "markdown",
   "metadata": {},
   "source": [
    "# Logical operator\n",
    "   . and,or,not"
   ]
  },
  {
   "cell_type": "code",
   "execution_count": 11,
   "metadata": {},
   "outputs": [
    {
     "name": "stdout",
     "output_type": "stream",
     "text": [
      "True\n",
      "False\n",
      "False\n",
      "True\n",
      "True\n",
      "True\n"
     ]
    }
   ],
   "source": [
    "print(True and True) #(0,0 --- 0, 1-- 1, 0-- 1, 1 )\n",
    "print(False and True)\n",
    "print(True and False)\n",
    "print(True and True)\n",
    "\n",
    "# not with or\n",
    "\n",
    "print(not(False and False))\n",
    "print(not(False and True))\n",
    "\n"
   ]
  },
  {
   "cell_type": "markdown",
   "metadata": {},
   "source": [
    "# Membership\n",
    "  + in,not in"
   ]
  },
  {
   "cell_type": "code",
   "execution_count": 14,
   "metadata": {},
   "outputs": [
    {
     "name": "stdout",
     "output_type": "stream",
     "text": [
      "True\n",
      "False\n",
      "True\n"
     ]
    }
   ],
   "source": [
    "s=\"welcome to python workshop\"\n",
    "print(\"to\"in s)\n",
    "\n",
    "print(\"too\" in s)\n",
    "\n",
    "print(\"x\" not in s)"
   ]
  },
  {
   "cell_type": "markdown",
   "metadata": {},
   "source": [
    "# Identity operator"
   ]
  },
  {
   "cell_type": "code",
   "execution_count": 16,
   "metadata": {},
   "outputs": [
    {
     "name": "stdout",
     "output_type": "stream",
     "text": [
      "False\n",
      "True\n"
     ]
    }
   ],
   "source": [
    "x = \"hello\"\n",
    "\n",
    "y = \"hell\"\n",
    "\n",
    "print(x is y)\n",
    "\n",
    "print(x is not y)"
   ]
  },
  {
   "cell_type": "markdown",
   "metadata": {},
   "source": [
    "# Bitwise operator\n",
    "  . &,|,^"
   ]
  },
  {
   "cell_type": "code",
   "execution_count": 17,
   "metadata": {},
   "outputs": [
    {
     "data": {
      "text/plain": [
       "'0b10'"
      ]
     },
     "execution_count": 17,
     "metadata": {},
     "output_type": "execute_result"
    }
   ],
   "source": [
    "282\n",
    "bin(2)"
   ]
  },
  {
   "cell_type": "code",
   "execution_count": 19,
   "metadata": {},
   "outputs": [
    {
     "data": {
      "text/plain": [
       "2"
      ]
     },
     "execution_count": 19,
     "metadata": {},
     "output_type": "execute_result"
    }
   ],
   "source": [
    "2&2"
   ]
  },
  {
   "cell_type": "code",
   "execution_count": 27,
   "metadata": {},
   "outputs": [
    {
     "data": {
      "text/plain": [
       "'A'"
      ]
     },
     "execution_count": 27,
     "metadata": {},
     "output_type": "execute_result"
    }
   ],
   "source": [
    "2&5\n",
    "\n",
    "5|10\n",
    "\n",
    "int(\"1111\",2)\n",
    "\n",
    "bin(2)\n",
    "\n",
    "int(\"001\")\n",
    "\n",
    "int(\"0101\",2)\n",
    "\n",
    "ord(\"A\")\n",
    "chr(65)"
   ]
  },
  {
   "cell_type": "markdown",
   "metadata": {},
   "source": [
    "# Take 5 inputs from user\n",
    "\n",
    "# operations the values\n",
    "\n",
    "# print result"
   ]
  },
  {
   "cell_type": "code",
   "execution_count": null,
   "metadata": {},
   "outputs": [],
   "source": []
  },
  {
   "cell_type": "markdown",
   "metadata": {},
   "source": [
    "# Conditional Statement\n",
    "\n",
    "+   if,elif,else\n",
    "\n",
    "### condition syntax\n",
    "\n",
    "if condition:\n",
    "    statements\n",
    "elif condition:\n",
    "    statement\n",
    "else\n",
    "    statements"
   ]
  },
  {
   "cell_type": "code",
   "execution_count": 28,
   "metadata": {},
   "outputs": [
    {
     "name": "stdout",
     "output_type": "stream",
     "text": [
      "enter the value:2\n",
      "2 is an even number\n"
     ]
    }
   ],
   "source": [
    "# Even numbers\n",
    "\n",
    "n = int(input(\"enter the value:\"))\n",
    "if n%2==0:\n",
    "    print(n,\"is an even number\")\n",
    "else:\n",
    "    print(n,\"is not even number\")"
   ]
  },
  {
   "cell_type": "code",
   "execution_count": 29,
   "metadata": {},
   "outputs": [
    {
     "name": "stdout",
     "output_type": "stream",
     "text": [
      "enter the value:100\n",
      "100 is not odd number\n"
     ]
    }
   ],
   "source": [
    "# odd numbers\n",
    "\n",
    "n = int(input(\"enter the value:\"))\n",
    "if n%2==1:\n",
    "    print(n,\"is an odd number\")\n",
    "else:\n",
    "    print(n,\"is not odd number\")\n",
    "          "
   ]
  },
  {
   "cell_type": "markdown",
   "metadata": {},
   "source": [
    "# take the input from \n",
    "1 to 7"
   ]
  },
  {
   "cell_type": "code",
   "execution_count": 33,
   "metadata": {},
   "outputs": [
    {
     "name": "stdout",
     "output_type": "stream",
     "text": [
      "enter day value:8\n",
      "sunday\n"
     ]
    }
   ],
   "source": [
    "n = int(input(\"enter day value:\"))\n",
    "if n%7==1:\n",
    "    print(\"sunday\")\n",
    "elif n%7 == 2:\n",
    "    print(\"monday\")\n",
    "elif n%7==3:\n",
    "    print(\"tuseday\")\n",
    "elif n%7==4:\n",
    "    print(\"wednesday\")\n",
    "elif n%7==5:\n",
    "    print(\"thrusday\")\n",
    "elif n%7==6:\n",
    "    print(\"friday\")\n",
    "else:\n",
    "    print(\"saturday\")"
   ]
  },
  {
   "cell_type": "markdown",
   "metadata": {},
   "source": [
    "# Based on time take input from the user   \n",
    "  \n",
    "   00:00  12:00\n"
   ]
  },
  {
   "cell_type": "code",
   "execution_count": 9,
   "metadata": {},
   "outputs": [
    {
     "name": "stdout",
     "output_type": "stream",
     "text": [
      "enter the time: 12.12\n",
      "Good Afternoon\n"
     ]
    }
   ],
   "source": [
    "time = float(input(\"enter the time: \"))\n",
    "if time >= 0.0 and time <= 12.00 :\n",
    "    print(\"Good Morning\")\n",
    "elif time >= 12.00 and time <= 17.00 :\n",
    "    print(\"Good Afternoon\")\n",
    "elif time >= 17.00 and time <=20.00 :\n",
    "    print(\"Good Evening\")\n",
    "elif time >= 20.00 and time <= 24.00 :\n",
    "    print(\"Good Night\")\n",
    "else :\n",
    "    print(\"invalid time\")"
   ]
  },
  {
   "cell_type": "code",
   "execution_count": 10,
   "metadata": {},
   "outputs": [
    {
     "name": "stdout",
     "output_type": "stream",
     "text": [
      "enter value here : d\n",
      "Alphabet\n"
     ]
    }
   ],
   "source": [
    "n = input(\"enter value here : \")\n",
    "if (n >= 'a' and n<= 'z') or (n >= 'A' and n <= 'Z'):\n",
    "    print(\"Alphabet\")\n",
    "elif n>='0' and n<='9':\n",
    "    print(\"Digit\")\n",
    "else:\n",
    "    print(\"Symbol\")"
   ]
  },
  {
   "cell_type": "code",
   "execution_count": null,
   "metadata": {},
   "outputs": [
    {
     "name": "stdout",
     "output_type": "stream",
     "text": [
      "\n",
      "Welcome to Python 3.7's help utility!\n",
      "\n",
      "If this is your first time using Python, you should definitely check out\n",
      "the tutorial on the Internet at https://docs.python.org/3.7/tutorial/.\n",
      "\n",
      "Enter the name of any module, keyword, or topic to get help on writing\n",
      "Python programs and using Python modules.  To quit this help utility and\n",
      "return to the interpreter, just type \"quit\".\n",
      "\n",
      "To get a list of available modules, keywords, symbols, or topics, type\n",
      "\"modules\", \"keywords\", \"symbols\", or \"topics\".  Each module also comes\n",
      "with a one-line summary of what it does; to list the modules whose name\n",
      "or summary contain a given string such as \"spam\", type \"modules spam\".\n",
      "\n",
      "help> modules\n",
      "\n",
      "Please wait a moment while I gather a list of all available modules...\n",
      "\n"
     ]
    },
    {
     "name": "stderr",
     "output_type": "stream",
     "text": [
      "C:\\Users\\pace\\Anaconda3\\lib\\site-packages\\IPython\\kernel\\__init__.py:13: ShimWarning: The `IPython.kernel` package has been deprecated since IPython 4.0.You should import from ipykernel or jupyter_client instead.\n",
      "  \"You should import from ipykernel or jupyter_client instead.\", ShimWarning)\n",
      "WARNING: AstropyDeprecationWarning: astropy.utils.compat.futures is now deprecated - use concurrent.futures instead [astropy.utils.compat.futures]\n",
      "WARNING: The conda.compat module is deprecated and will be removed in a future release.\n",
      "C:\\Users\\pace\\Anaconda3\\lib\\site-packages\\distributed\\config.py:20: YAMLLoadWarning: calling yaml.load() without Loader=... is deprecated, as the default Loader is unsafe. Please read https://msg.pyyaml.org/load for full details.\n",
      "  defaults = yaml.load(f)\n",
      "C:\\Users\\pace\\Anaconda3\\lib\\site-packages\\distributed\\utils.py:134: RuntimeWarning: Couldn't detect a suitable IP address for reaching '8.8.8.8', defaulting to '127.0.0.1': [WinError 10065] A socket operation was attempted to an unreachable host\n",
      "  % (host, default, e), RuntimeWarning)\n",
      "C:\\Users\\pace\\Anaconda3\\lib\\site-packages\\nltk\\twitter\\__init__.py:22: UserWarning: The twython library has not been installed. Some functionality from the twitter package will not be available.\n",
      "  \"The twython library has not been installed. \"\n",
      "C:\\Users\\pace\\Anaconda3\\lib\\site-packages\\skimage\\novice\\__init__.py:103: UserWarning: The `skimage.novice` module was deprecated in version 0.14. It will be removed in 0.16.\n",
      "  warnings.warn(\"The `skimage.novice` module was deprecated in version 0.14. \"\n",
      "C:\\Users\\pace\\Anaconda3\\lib\\site-packages\\skimage\\viewer\\utils\\core.py:10: UserWarning: Recommended matplotlib backend is `Agg` for full skimage.viewer functionality.\n",
      "  warn(\"Recommended matplotlib backend is `Agg` for full \"\n",
      "C:\\Users\\pace\\Anaconda3\\lib\\site-packages\\sphinx\\websupport\\__init__.py:25: RemovedInSphinx20Warning: sphinx.websupport module is now provided as sphinxcontrib-websupport. sphinx.websupport will be removed at Sphinx-2.0. Please use the package instead.\n",
      "  RemovedInSphinx20Warning)\n",
      "C:\\Users\\pace\\Anaconda3\\lib\\site-packages\\qtawesome\\iconic_font.py:276: UserWarning: You need to have a running QApplication to use QtAwesome!\n",
      "  warnings.warn(\"You need to have a running \"\n",
      "C:\\Users\\pace\\Anaconda3\\lib\\pkgutil.py:107: VisibleDeprecationWarning: zmq.eventloop.minitornado is deprecated in pyzmq 14.0 and will be removed.\n",
      "    Install tornado itself to use zmq with the tornado IOLoop.\n",
      "    \n",
      "  yield from walk_packages(path, info.name+'.', onerror)\n"
     ]
    },
    {
     "name": "stdout",
     "output_type": "stream",
     "text": [
      "Crypto              builtins            mkl                 soupsieve\n",
      "Cython              bz2                 mkl_fft             sphinx\n",
      "IPython             cProfile            mkl_random          sphinxcontrib\n",
      "OpenSSL             calendar            mmap                spyder\n",
      "PIL                 certifi             mmapfile            spyder_breakpoints\n",
      "PyQt5               cffi                mmsystem            spyder_io_dcm\n",
      "__future__          cgi                 modulefinder        spyder_io_hdf5\n",
      "_abc                cgitb               more_itertools      spyder_kernels\n",
      "_ast                chardet             mpmath              spyder_profiler\n",
      "_asyncio            chunk               msgpack             spyder_pylint\n",
      "_bisect             click               msilib              sqlalchemy\n",
      "_blake2             cloudpickle         msvcrt              sqlite3\n",
      "_bootlocale         clyent              multipledispatch    sre_compile\n",
      "_bz2                cmath               multiprocessing     sre_constants\n",
      "_cffi_backend       cmd                 navigator_updater   sre_parse\n",
      "_codecs             code                nbconvert           ssl\n",
      "_codecs_cn          codecs              nbformat            sspi\n",
      "_codecs_hk          codeop              netbios             sspicon\n",
      "_codecs_iso2022     collections         netrc               stat\n",
      "_codecs_jp          colorama            networkx            statistics\n",
      "_codecs_kr          colorsys            nltk                statsmodels\n",
      "_codecs_tw          commctrl            nntplib             storemagic\n",
      "_collections        compileall          nose                string\n",
      "_collections_abc    comtypes            notebook            stringprep\n",
      "_compat_pickle      concurrent          nt                  struct\n",
      "_compression        conda               ntpath              subprocess\n",
      "_contextvars        conda_build         ntsecuritycon       sunau\n",
      "_csv                conda_env           nturl2path          symbol\n",
      "_ctypes             conda_verify        numba               sympy\n",
      "_ctypes_test        configparser        numbers             sympyprinting\n",
      "_datetime           contextlib          numexpr             symtable\n",
      "_decimal            contextlib2         numpy               sys\n",
      "_dummy_thread       contextvars         numpydoc            sysconfig\n",
      "_elementtree        copy                odbc                tables\n",
      "_functools          copyreg             olefile             tabnanny\n",
      "_hashlib            crypt               opcode              tarfile\n",
      "_heapq              cryptography        openpyxl            tblib\n",
      "_imp                csv                 operator            telnetlib\n",
      "_io                 ctypes              optparse            tempfile\n",
      "_json               curl                os                  terminado\n",
      "_locale             curses              packaging           test\n",
      "_lsprof             cwp                 pandas              test_data\n",
      "_lzma               cycler              pandocfilters       test_path\n",
      "_markupbase         cython              parser              test_pycosat\n",
      "_md5                cythonmagic         parso               testpath\n",
      "_msi                cytoolz             partd               tests\n",
      "_multibytecodec     dask                past                textwrap\n",
      "_multiprocessing    dataclasses         path                this\n",
      "_nsis               datetime            pathlib             threading\n",
      "_opcode             dateutil            pathlib2            time\n",
      "_operator           dbi                 patsy               timeit\n",
      "_osx_support        dbm                 pdb                 timer\n",
      "_overlapped         dde                 pep8                tkinter\n",
      "_pickle             decimal             perfmon             tlz\n",
      "_py_abc             decorator           pickle              token\n",
      "_pydecimal          defusedxml          pickleshare         tokenize\n",
      "_pyio               difflib             pickletools         toolz\n",
      "_pyrsistent_version dis                 pip                 tornado\n",
      "_pytest             distributed         pipes               tqdm\n",
      "_queue              distutils           pkg_resources       trace\n",
      "_random             doctest             pkginfo             traceback\n",
      "_sha1               docutils            pkgutil             tracemalloc\n",
      "_sha256             dummy_threading     platform            traitlets\n",
      "_sha3               easy_install        plistlib            tty\n",
      "_sha512             email               pluggy              turtle\n",
      "_signal             encodings           ply                 turtledemo\n",
      "_sitebuiltins       ensurepip           poplib              types\n",
      "_socket             entrypoints         posixpath           typing\n",
      "_sqlite3            enum                pprint              unicodecsv\n",
      "_sre                errno               profile             unicodedata\n",
      "_ssl                et_xmlfile          prometheus_client   unittest\n",
      "_stat               fastcache           prompt_toolkit      urllib\n",
      "_string             faulthandler        pstats              urllib3\n",
      "_strptime           filecmp             psutil              uu\n",
      "_struct             fileinput           pty                 uuid\n",
      "_symtable           filelock            pvectorc            venv\n",
      "_system_path        flask               py                  warnings\n",
      "_testbuffer         fnmatch             py_compile          wave\n",
      "_testcapi           formatter           pyclbr              wcwidth\n",
      "_testconsole        fractions           pycodestyle         weakref\n",
      "_testimportmultiple ftplib              pycosat             webbrowser\n",
      "_testmultiphase     functools           pycparser           webencodings\n",
      "_thread             future              pycurl              werkzeug\n",
      "_threading_local    gc                  pydoc               wheel\n",
      "_tkinter            genericpath         pydoc_data          widgetsnbextension\n",
      "_tracemalloc        getopt              pyexpat             win2kras\n",
      "_warnings           getpass             pyflakes            win32api\n",
      "_weakref            gettext             pygments            win32clipboard\n",
      "_weakrefset         gevent              pylab               win32com\n",
      "_win32sysloader     glob                pylint              win32con\n",
      "_winapi             glob2               pyodbc              win32console\n",
      "_winxptheme         greenlet            pyparsing           win32cred\n",
      "_yaml               gzip                pyreadline          win32crypt\n",
      "abc                 h5py                pyrsistent          win32cryptcon\n",
      "adodbapi            hashlib             pytest              win32event\n",
      "afxres              heapdict            pytest_arraydiff    win32evtlog\n",
      "aifc                heapq               pytest_doctestplus  win32evtlogutil\n",
      "alabaster           hmac                pytest_openfiles    win32file\n",
      "anaconda_navigator  html                pytest_remotedata   win32gui\n",
      "anaconda_project    html5lib            pythoncom           win32gui_struct\n",
      "antigravity         http                pytz                win32help\n",
      "argparse            idlelib             pywin               win32inet\n",
      "array               idna                pywin32_testutil    win32inetcon\n",
      "asn1crypto          imageio             pywintypes          win32job\n",
      "ast                 imagesize           pywt                win32lz\n",
      "astroid             imaplib             pyximport           win32net\n",
      "astropy             imghdr              qtawesome           win32netcon\n",
      "asynchat            imp                 qtconsole           win32pdh\n",
      "asyncio             importlib           qtpy                win32pdhquery\n",
      "asyncore            importlib_metadata  queue               win32pdhutil\n",
      "atexit              inspect             quopri              win32pipe\n",
      "atomicwrites        io                  random              win32print\n",
      "attr                ipaddress           rasutil             win32process\n",
      "audioop             ipykernel           re                  win32profile\n",
      "autoreload          ipykernel_launcher  readline            win32ras\n",
      "babel               ipython_genutils    regcheck            win32rcparser\n",
      "backcall            ipywidgets          regutil             win32security\n",
      "backports           isapi               reprlib             win32service\n",
      "base64              isort               requests            win32serviceutil\n",
      "bdb                 isympy              rlcompleter         win32timezone\n",
      "binascii            itertools           rmagic              win32trace\n",
      "binhex              itsdangerous        rope                win32traceutil\n",
      "binstar_client      jdcal               ruamel_yaml         win32transaction\n",
      "bisect              jedi                run                 win32ts\n",
      "bitarray            jinja2              runpy               win32ui\n",
      "bkcharts            json                sched               win32uiole\n",
      "bleach              jsonschema          scipy               win32verstamp\n",
      "bokeh               jupyter             scripts             win32wnet\n",
      "boto                jupyter_client      seaborn             win_inet_pton\n",
      "bottleneck          jupyter_console     secrets             win_unicode_console\n",
      "brain_argparse      jupyter_core        select              wincertstore\n",
      "brain_attrs         jupyterlab          selectors           winerror\n",
      "brain_builtin_inference jupyterlab_server   send2trash          winioctlcon\n",
      "brain_collections   keyring             servicemanager      winnt\n",
      "brain_curses        keyword             setuptools          winperf\n",
      "brain_dateutil      kiwisolver          shelve              winpty\n",
      "brain_fstrings      lazy_object_proxy   shlex               winreg\n",
      "brain_functools     lib2to3             shutil              winsound\n",
      "brain_gi            libarchive          signal              winxpgui\n",
      "brain_hashlib       libfuturize         simplegeneric       winxptheme\n",
      "brain_http          libpasteurize       singledispatch      wrapt\n",
      "brain_io            linecache           singledispatch_helpers wsgiref\n",
      "brain_mechanize     llvmlite            sip                 xdrlib\n",
      "brain_multiprocessing locale              sipconfig           xlrd\n",
      "brain_namedtuple_enum locket              sipdistutils        xlsxwriter\n",
      "brain_nose          logging             site                xlwings\n",
      "brain_numpy         lxml                six                 xlwt\n",
      "brain_pkg_resources lzma                skimage             xml\n",
      "brain_pytest        macpath             sklearn             xmlrpc\n",
      "brain_qt            mailbox             smtpd               xxsubtype\n",
      "brain_random        mailcap             smtplib             yaml\n",
      "brain_re            markupsafe          sndhdr              zict\n",
      "brain_six           marshal             snowballstemmer     zipapp\n",
      "brain_ssl           math                socket              zipfile\n",
      "brain_subprocess    matplotlib          socketserver        zipimport\n",
      "brain_threading     mccabe              socks               zipp\n",
      "brain_typing        menuinst            sockshandler        zlib\n",
      "brain_uuid          mimetypes           sortedcollections   zmq\n",
      "bs4                 mistune             sortedcontainers    \n",
      "\n",
      "Enter any module name to get more help.  Or, type \"modules spam\" to search\n",
      "for modules whose name or summary contain the string \"spam\".\n",
      "\n"
     ]
    }
   ],
   "source": [
    "help()"
   ]
  },
  {
   "cell_type": "code",
   "execution_count": 1,
   "metadata": {},
   "outputs": [
    {
     "name": "stdout",
     "output_type": "stream",
     "text": [
      "enter username:-Prince\n",
      "enter password········\n",
      "wELCOME Prince\n"
     ]
    }
   ],
   "source": [
    "from getpass import getpass\n",
    "\n",
    "username = input(\"enter username:-\")\n",
    "password = getpass(\"enter password\")\n",
    "\n",
    "if username == \"Prince\" and password == \"6300\":\n",
    "    print(\"wELCOME\",username)\n",
    "else:\n",
    "    print(\"Invalid username or password\")"
   ]
  },
  {
   "cell_type": "markdown",
   "metadata": {},
   "source": [
    "# Flow Control Statement\n",
    "+ for loop\n",
    "\n",
    "### Syntax\n",
    "\n",
    "for varlable in range(inclusive,exclusive,step);\n",
    "\n",
    "print(value)\n",
    "\n",
    "+ while loop\n",
    "\n",
    "# Jumping statement\n",
    "+ break\n",
    "\n",
    "+ continue\n",
    "\n",
    "+ pass"
   ]
  },
  {
   "cell_type": "code",
   "execution_count": 16,
   "metadata": {},
   "outputs": [
    {
     "name": "stdout",
     "output_type": "stream",
     "text": [
      "0-1-2-3-4-5-6-7-8-9-10-11-12-13-14-15-16-17-18-19-20-21-22-23-24-25-26-27-28-29-30-31-32-33-34-35-36-37-38-39-40-41-42-43-44-45-46-47-48-49-50-51-52-53-54-55-56-57-58-59-60-61-62-63-64-65-66-67-68-69-70-71-72-73-74-75-76-77-78-79-80-81-82-83-84-85-86-87-88-89-90-91-92-93-94-95-96-97-98-99-100-1-2-3-4-5-6-7-8-9-10-11-12-13-14-15-16-17-18-19-20-21-22-23-24-25-26-27-28-29-30-31-32-33-34-35-36-37-38-39-40-41-42-43-44-45-46-47-48-49-50-50-49-48-47-46-45-44-43-42-41-40-39-38-37-36-35-34-33-32-31-30-29-28-27-26-25-24-23-22-21-20-19-18-17-16-15-14-13-12-11-10-9-8-7-6-5-4-3-2-1-0-2-4-6-8-10-12-14-16-18-20-22-24-26-28-30-32-34-36-38-40-42-44-46-48-50-52-54-56-58-60-62-64-66-68-70-72-74-76-78-80-82-84-86-88-90-92-94-96-98-100-"
     ]
    }
   ],
   "source": [
    "# forloop\n",
    "\n",
    "for i in range(101):\n",
    "    print(i,end=\"-\")\n",
    "#with inclusive\n",
    "\n",
    "\n",
    "for j in range(1,50+1):\n",
    "    print(j,end=\"-\")\n",
    "#Reverse number \n",
    "\n",
    "for k in range(50,0,-1):\n",
    "    print(k,end=\"-\")\n",
    "# evennumber using for loop\n",
    "\n",
    "for l in range(0,101,2):\n",
    "    print(l,end=\"-\")"
   ]
  },
  {
   "cell_type": "code",
   "execution_count": 2,
   "metadata": {},
   "outputs": [
    {
     "name": "stdout",
     "output_type": "stream",
     "text": [
      "10\n",
      "0 1 2 3 4 5 6 7 8 9 10 55\n"
     ]
    }
   ],
   "source": [
    "n = int(input( ))\n",
    "s = 0\n",
    "for i in range(n+1):\n",
    "    s+=i\n",
    "    print(i,end=' ')\n",
    "print(s)"
   ]
  },
  {
   "cell_type": "code",
   "execution_count": null,
   "metadata": {},
   "outputs": [],
   "source": [
    "# sum of natural numbers in b/w the given range\n",
    "\n"
   ]
  },
  {
   "cell_type": "code",
   "execution_count": 22,
   "metadata": {},
   "outputs": [
    {
     "name": "stdout",
     "output_type": "stream",
     "text": [
      "\n"
     ]
    },
    {
     "ename": "ValueError",
     "evalue": "invalid literal for int() with base 10: ''",
     "output_type": "error",
     "traceback": [
      "\u001b[1;31m---------------------------------------------------------------------------\u001b[0m",
      "\u001b[1;31mValueError\u001b[0m                                Traceback (most recent call last)",
      "\u001b[1;32m<ipython-input-22-6129c85a75a1>\u001b[0m in \u001b[0;36m<module>\u001b[1;34m\u001b[0m\n\u001b[1;32m----> 1\u001b[1;33m \u001b[0mn\u001b[0m \u001b[1;33m=\u001b[0m \u001b[0mint\u001b[0m\u001b[1;33m(\u001b[0m\u001b[0minput\u001b[0m\u001b[1;33m(\u001b[0m\u001b[1;33m)\u001b[0m\u001b[1;33m)\u001b[0m\u001b[1;33m\u001b[0m\u001b[1;33m\u001b[0m\u001b[0m\n\u001b[0m\u001b[0;32m      2\u001b[0m \u001b[1;32mfor\u001b[0m \u001b[0mi\u001b[0m \u001b[1;32min\u001b[0m \u001b[0mrange\u001b[0m\u001b[1;33m(\u001b[0m\u001b[1;36m10\u001b[0m\u001b[1;33m,\u001b[0m\u001b[1;36m2\u001b[0m\u001b[1;33m,\u001b[0m\u001b[1;33m-\u001b[0m\u001b[1;36m2\u001b[0m\u001b[1;33m)\u001b[0m\u001b[1;33m:\u001b[0m\u001b[1;33m\u001b[0m\u001b[1;33m\u001b[0m\u001b[0m\n\u001b[0;32m      3\u001b[0m     \u001b[0mprint\u001b[0m\u001b[1;33m(\u001b[0m\u001b[0mi\u001b[0m\u001b[1;33m)\u001b[0m\u001b[1;33m\u001b[0m\u001b[1;33m\u001b[0m\u001b[0m\n",
      "\u001b[1;31mValueError\u001b[0m: invalid literal for int() with base 10: ''"
     ]
    }
   ],
   "source": [
    "n = int(input())\n",
    "for i in range(10,2,-2):\n",
    "    print(i)"
   ]
  },
  {
   "cell_type": "code",
   "execution_count": 13,
   "metadata": {},
   "outputs": [
    {
     "name": "stdout",
     "output_type": "stream",
     "text": [
      "enter factorial number: 120\n",
      "1 2 3 4 5 6 7 8 9 10 11 12 13 14 15 16 17 18 19 20 21 22 23 24 25 26 27 28 29 30 31 32 33 34 35 36 37 38 39 40 41 42 43 44 45 46 47 48 49 50 51 52 53 54 55 56 57 58 59 60 61 62 63 64 65 66 67 68 69 70 71 72 73 74 75 76 77 78 79 80 81 82 83 84 85 86 87 88 89 90 91 92 93 94 95 96 97 98 99 100 101 102 103 104 105 106 107 108 109 110 111 112 113 114 115 116 117 118 119 120 6689502913449127057588118054090372586752746333138029810295671352301633557244962989366874165271984981308157637893214090552534408589408121859898481114389650005964960521256960000000000000000000000000000\n"
     ]
    }
   ],
   "source": [
    "n = int(input(\"enter factorial number: \"))\n",
    "s = 1\n",
    "for i in range(1,n+1):\n",
    "    s*=i\n",
    "    print(i,end=\" \")\n",
    "print(s)"
   ]
  },
  {
   "cell_type": "code",
   "execution_count": 18,
   "metadata": {},
   "outputs": [
    {
     "name": "stdout",
     "output_type": "stream",
     "text": [
      "enter table number :17\n",
      "enter table upto :17\n",
      "17 * 1 = 17\n",
      "17 * 2 = 34\n",
      "17 * 3 = 51\n",
      "17 * 4 = 68\n",
      "17 * 5 = 85\n",
      "17 * 6 = 102\n",
      "17 * 7 = 119\n",
      "17 * 8 = 136\n",
      "17 * 9 = 153\n",
      "17 * 10 = 170\n",
      "17 * 11 = 187\n",
      "17 * 12 = 204\n",
      "17 * 13 = 221\n",
      "17 * 14 = 238\n",
      "17 * 15 = 255\n",
      "17 * 16 = 272\n",
      "17 * 17 = 289\n"
     ]
    }
   ],
   "source": [
    "#table \n",
    " \n",
    "n = int(input(\"enter table number :\"))\n",
    "m = int(input(\"enter table upto :\"))\n",
    "for i in range(1,m+1):\n",
    "    print(\"{} * {} = {}\".format(n,i,n*i))\n",
    "    "
   ]
  },
  {
   "cell_type": "markdown",
   "metadata": {},
   "source": [
    "### While\n",
    "    while condition:\n",
    "        \n",
    "            statements\n",
    "            \n",
    "            \n",
    "            change the vallue"
   ]
  },
  {
   "cell_type": "code",
   "execution_count": 4,
   "metadata": {},
   "outputs": [
    {
     "name": "stdout",
     "output_type": "stream",
     "text": [
      "1\n",
      "2\n",
      "3\n",
      "4\n",
      "5\n",
      "6\n",
      "7\n",
      "8\n",
      "9\n"
     ]
    }
   ],
   "source": [
    "i = 1\n",
    "while i<10:\n",
    "    print(i)\n",
    "    i+=1"
   ]
  },
  {
   "cell_type": "code",
   "execution_count": 2,
   "metadata": {},
   "outputs": [
    {
     "name": "stdout",
     "output_type": "stream",
     "text": [
      "10\n",
      "9\n",
      "8\n",
      "7\n",
      "6\n",
      "5\n",
      "4\n",
      "3\n",
      "2\n",
      "1\n"
     ]
    }
   ],
   "source": [
    "i = 10\n",
    "while i > 0:\n",
    "    print(i)\n",
    "    i-=1"
   ]
  },
  {
   "cell_type": "code",
   "execution_count": 13,
   "metadata": {},
   "outputs": [
    {
     "name": "stdout",
     "output_type": "stream",
     "text": [
      "10\n",
      "11\n",
      "13\n",
      "15\n",
      "17\n",
      "19\n"
     ]
    }
   ],
   "source": [
    "i =int(input())\n",
    "while i<20:\n",
    "    if i%2!=0:\n",
    "        print(i)\n",
    "    i+=1"
   ]
  },
  {
   "cell_type": "code",
   "execution_count": null,
   "metadata": {},
   "outputs": [
    {
     "name": "stdout",
     "output_type": "stream",
     "text": [
      "Tue Jan  5 11:48:41 2021\n",
      "Tue Jan  5 11:49:41 2021\n"
     ]
    }
   ],
   "source": [
    " '''import webbrowser\n",
    " \n",
    " #dir(webbrowser,end=\"\")\n",
    " \n",
    " \n",
    " webbrowser.open(\"www.google.com\")\n",
    " '''\n",
    "    \n",
    "import time\n",
    "\n",
    "#dirt(time)\n",
    "\n",
    "time.ctime()\n",
    " \n",
    "import webbrowser,time\n",
    "totalbreaks=2\n",
    "count=0\n",
    "\n",
    "while count<totalbreaks:\n",
    "    print(time.ctime())\n",
    "    time.sleep(60)\n",
    "    \n",
    "    if count==1:\n",
    "        print(webbrowser.open(www.facebook.com))\n",
    "        \n",
    "    elif count==2:\n",
    "        print(webbrowser.open(www.youtube.com))\n",
    "        \n",
    "    count+=1"
   ]
  },
  {
   "cell_type": "code",
   "execution_count": 1,
   "metadata": {},
   "outputs": [
    {
     "name": "stdout",
     "output_type": "stream",
     "text": [
      "10\n",
      "11\n",
      "12\n",
      "13\n",
      "14\n",
      "15\n"
     ]
    }
   ],
   "source": [
    "i = 10\n",
    "while i<20:\n",
    "    print(i)\n",
    "    if i == 15:\n",
    "        break\n",
    "    else:\n",
    "        i+=1"
   ]
  },
  {
   "cell_type": "code",
   "execution_count": 3,
   "metadata": {},
   "outputs": [
    {
     "name": "stdout",
     "output_type": "stream",
     "text": [
      "h\n",
      "e\n"
     ]
    }
   ],
   "source": [
    "s = \"hello\"\n",
    "for i in s:\n",
    "    if i == \"l\":\n",
    "        break\n",
    "    print(i)"
   ]
  },
  {
   "cell_type": "code",
   "execution_count": 7,
   "metadata": {},
   "outputs": [
    {
     "name": "stdout",
     "output_type": "stream",
     "text": [
      "P r i c e "
     ]
    }
   ],
   "source": [
    "s = \"Prince\"\n",
    "for i in s:\n",
    "    if i == \"n\":\n",
    "        continue\n",
    "    print(i,end=\" \")"
   ]
  },
  {
   "cell_type": "code",
   "execution_count": null,
   "metadata": {},
   "outputs": [],
   "source": []
  },
  {
   "cell_type": "code",
   "execution_count": null,
   "metadata": {},
   "outputs": [],
   "source": []
  }
 ],
 "metadata": {
  "kernelspec": {
   "display_name": "Python 3",
   "language": "python",
   "name": "python3"
  },
  "language_info": {
   "codemirror_mode": {
    "name": "ipython",
    "version": 3
   },
   "file_extension": ".py",
   "mimetype": "text/x-python",
   "name": "python",
   "nbconvert_exporter": "python",
   "pygments_lexer": "ipython3",
   "version": "3.7.3"
  }
 },
 "nbformat": 4,
 "nbformat_minor": 2
}
